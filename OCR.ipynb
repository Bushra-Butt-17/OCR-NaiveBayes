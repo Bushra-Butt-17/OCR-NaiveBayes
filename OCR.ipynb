{
 "cells": [
  {
   "cell_type": "markdown",
   "metadata": {},
   "source": [
    "# OCR SYSTEM"
   ]
  },
  {
   "cell_type": "markdown",
   "metadata": {},
   "source": [
    "#### Import Libraries"
   ]
  },
  {
   "cell_type": "code",
   "execution_count": 323,
   "metadata": {},
   "outputs": [],
   "source": [
    "%matplotlib inline\n",
    "import numpy as np\n",
    "from matplotlib import pyplot as plt\n",
    "import pandas as pd"
   ]
  },
  {
   "cell_type": "markdown",
   "metadata": {},
   "source": [
    "#### Import sample images"
   ]
  },
  {
   "cell_type": "code",
   "execution_count": 324,
   "metadata": {},
   "outputs": [
    {
     "data": {
      "image/png": "[encoded data removed]",
      "text/plain": [
       "<Figure size 640x480 with 2 Axes>"
      ]
     },
     "metadata": {},
     "output_type": "display_data"
    }
   ],
   "source": [
    "img2=np.array([0,0,0,0,0,0,0,0,0,0,0,0,0,0,0,0,0,0,1,1,1,0,0,0,0,0,0,0,0,0,0,0,0,1,1,0,0,0,0,0,0,0,0,\n",
    "0,0,1,0,0,1,0,0,0,0,0,0,0,0,0,0,0,1,1,0,0,1,0,0,0,0,0,0,0,0,0,0,0,1,1,0,0,1,0,0,0,0,0,0,0,0,0,0,0,1,\n",
    "1,1,0,1,0,0,0,0,0,0,0,0,0,0,1,1,0,1,0,1,0,0,0,0,0,0,0,0,0,0,1,0,0,1,0,1,0,0,0,0,0,0,0,0,0,1,0,0,0,1,\n",
    "0,1,1,1,1,1,1,1,1,1,1,1,0,0,0,1,1,0,0,0,0,0,0,0,0,0,0,0,0,0,0,0,1,0,0,0,0,0,0,0,0,0,0,0,0,0,0,0,1,0,\n",
    "0,0,0,0,0,0,0,0,0,0,0,0,0,0,1,0,0,0,0,0,0,0,0,0,0,0,0,0,0,0,1,0,0,0,0,0,0,0,0,0,0,0,0,0,0,0,1,0,0,0,\n",
    "0,0,0,0,0,0,0,0,0,0,0,0,0],dtype=np.uint8)\n",
    "\n",
    "img4=np.array([0,0,0,0,0,0,0,0,0,0,0,0,0,0,0,0,0,0,0,0,0,0,0,0,0,0,0,0,0,0,0,0,0,0,0,0,0,0,0,1,0,0,0,\n",
    "0,0,0,0,0,1,1,1,1,1,1,1,1,0,0,0,0,0,0,0,0,0,0,0,0,0,0,0,1,0,0,0,0,0,0,0,1,0,0,0,0,0,0,0,1,0,0,0,0,0,\n",
    "1,1,1,0,0,0,0,0,0,1,0,0,0,1,1,1,0,0,0,0,0,0,0,0,0,1,0,0,1,1,0,0,0,0,0,0,0,0,0,0,0,1,1,1,0,0,0,0,0,0,\n",
    "0,0,1,1,1,1,1,1,0,0,0,0,0,0,0,0,0,1,1,0,0,0,1,0,0,0,0,0,0,0,0,0,0,0,0,0,0,0,1,0,0,0,0,0,0,0,0,0,0,0,\n",
    "0,0,0,1,1,0,0,0,0,0,0,0,0,0,0,0,0,0,0,0,1,0,0,0,0,0,0,0,0,0,0,0,0,0,0,0,0,0,0,0,0,0,0,0,0,0,0,0,0,0,\n",
    "0,0,0,0,0,0,0,0,0,0,0,0,0],dtype=np.uint8)\n",
    "\n",
    "img = np.reshape(img4,(16,16),order= 'F')\n",
    "img1 = np.reshape(img2,(16,16),order= 'F')\n",
    "\n",
    "fig, axes = plt.subplots(1, 2)\n",
    "axes[0].imshow(img)\n",
    "axes[0].set_title('Image of 4')\n",
    "axes[1].imshow(img1)\n",
    "axes[1].set_title('Image of 2')\n",
    "\n",
    "plt.tight_layout()\n",
    "\n",
    "plt.show()"
   ]
  },
  {
   "cell_type": "markdown",
   "metadata": {},
   "source": [
    "## Import Data from the Files"
   ]
  },
  {
   "cell_type": "markdown",
   "metadata": {},
   "source": [
    "#### Training Data"
   ]
  },
  {
   "cell_type": "markdown",
   "metadata": {},
   "source": [
    "Loading the training data files and storing them in respective datasets using load_txt function from numpy library. Displaying the shape of the training datasets."
   ]
  },
  {
   "cell_type": "code",
   "execution_count": 325,
   "metadata": {},
   "outputs": [
    {
     "name": "stdout",
     "output_type": "stream",
     "text": [
      "Shape of X_train: (500, 256)\n",
      "Shape of Y_train: (500,)\n"
     ]
    }
   ],
   "source": [
    "#Your code here\n",
    "x_train=np.loadtxt(\"C:\\\\Users\\\\User\\\\OneDrive\\\\Desktop\\\\trainX.txt\")\n",
    "y_train=np.loadtxt(\"C:\\\\Users\\\\User\\\\OneDrive\\\\Desktop\\\\trainY.txt\")\n",
    "print(\"Shape of X_train:\",x_train.shape)\n",
    "print(\"Shape of Y_train:\",y_train.shape)"
   ]
  },
  {
   "cell_type": "markdown",
   "metadata": {},
   "source": [
    "Expected Output <br>\n",
    "- Shape of X_train : (500, 256) <br>\n",
    "- Shape of y_train : (500,)"
   ]
  },
  {
   "cell_type": "markdown",
   "metadata": {},
   "source": [
    "### Testing Data"
   ]
  },
  {
   "cell_type": "markdown",
   "metadata": {},
   "source": [
    "Loading the testing data files and storing them in respective datasets using load_txt function from numpy library. Displaying the shape of the testing datasets."
   ]
  },
  {
   "cell_type": "code",
   "execution_count": 326,
   "metadata": {},
   "outputs": [
    {
     "name": "stdout",
     "output_type": "stream",
     "text": [
      "Shape of X_test: (100, 256)\n",
      "Shape of Y_test: (100,)\n"
     ]
    }
   ],
   "source": [
    "#Your code here\n",
    "x_test=np.loadtxt(\"C:\\\\Users\\\\User\\\\OneDrive\\\\Desktop\\\\testX.txt\")\n",
    "y_test=np.loadtxt(\"C:\\\\Users\\\\User\\\\OneDrive\\\\Desktop\\\\testY.txt\")\n",
    "print(\"Shape of X_test:\",x_test.shape)\n",
    "print(\"Shape of Y_test:\",y_test.shape)"
   ]
  },
  {
   "cell_type": "markdown",
   "metadata": {},
   "source": [
    "Expected Output <br>\n",
    "- Shape of X_train : (100, 256) <br>\n",
    "- Shape of y_train : (100,)\n"
   ]
  },
  {
   "cell_type": "markdown",
   "metadata": {},
   "source": [
    "### Dividing Data W.R.T its Classes"
   ]
  },
  {
   "cell_type": "markdown",
   "metadata": {},
   "source": [
    "##### Training Data"
   ]
  },
  {
   "cell_type": "code",
   "execution_count": 327,
   "metadata": {},
   "outputs": [
    {
     "name": "stdout",
     "output_type": "stream",
     "text": [
      "Shape of img2_X_train: (250, 256)\n",
      "Shape of img4_X_train: (250, 256)\n"
     ]
    }
   ],
   "source": [
    "#AS we know first 250 images are of 2 so we will take first 250 images from X_train\n",
    "#your code here\n",
    "img2_X_train = x_train[:250,:]\n",
    "img4_X_train = x_train[:250,:]\n",
    "\n",
    "print(\"Shape of img2_X_train:\", img2_X_train.shape)\n",
    "print(\"Shape of img4_X_train:\", img4_X_train.shape)"
   ]
  },
  {
   "cell_type": "markdown",
   "metadata": {},
   "source": [
    "##### Another way\n",
    "You can coment the below code if you dont want to try this effective way and will use the above code to divide the data into classes"
   ]
  },
  {
   "cell_type": "code",
   "execution_count": 328,
   "metadata": {},
   "outputs": [
    {
     "name": "stdout",
     "output_type": "stream",
     "text": [
      "Shape of img2_x_train:  (250, 256)\n",
      "Shape of img4_x_train:  (250, 256)\n"
     ]
    }
   ],
   "source": [
    "#But in case if we didn't know that first 250 images are of 2 then we can use this code\n",
    "#This img2_X_train will contain only only those images from X_train which have corespondong label of 2 in Y_train\n",
    "img2_X_train = x_train[y_train == 2]\n",
    "img4_X_train = x_train[y_train == 4]\n",
    "print(\"Shape of img2_x_train: \",img2_X_train.shape)\n",
    "print(\"Shape of img4_x_train: \",img4_X_train.shape)"
   ]
  },
  {
   "cell_type": "markdown",
   "metadata": {},
   "source": [
    "Expected Output <br>\n",
    "- Shape of X_train : (250, 256) <br>\n",
    "- Shape of y_train : (250, 256)\n"
   ]
  },
  {
   "cell_type": "markdown",
   "metadata": {},
   "source": [
    "##### Testing Data"
   ]
  },
  {
   "cell_type": "code",
   "execution_count": 329,
   "metadata": {},
   "outputs": [
    {
     "name": "stdout",
     "output_type": "stream",
     "text": [
      "Shape of img2_x_test:  (50, 256)\n",
      "Shape of img4_x_test:  (50, 256)\n"
     ]
    }
   ],
   "source": [
    "# Your code here\n",
    "\n",
    "img2_X_test = x_test[y_test == 2]\n",
    "img4_X_test = x_test[y_test == 4]\n",
    "print(\"Shape of img2_x_test: \",img2_X_test.shape)\n",
    "print(\"Shape of img4_x_test: \",img4_X_test.shape)"
   ]
  },
  {
   "cell_type": "markdown",
   "metadata": {},
   "source": [
    "Expected Output <br>\n",
    "- Shape of X_train : (50, 256) <br>\n",
    "- Shape of y_train : (50, 256)\n"
   ]
  },
  {
   "cell_type": "markdown",
   "metadata": {},
   "source": [
    "### Finding the Probabilities"
   ]
  },
  {
   "cell_type": "markdown",
   "metadata": {},
   "source": [
    "### Training Data"
   ]
  },
  {
   "cell_type": "markdown",
   "metadata": {},
   "source": [
    "##### Probabailty of 1s and 0s"
   ]
  },
  {
   "cell_type": "markdown",
   "metadata": {},
   "source": [
    "#### Explanation\n",
    "##### This code calculates probabilities for features (either 1 or 0) in classes 2 and 4, accounting for Laplace smoothing to avoid zero probabilities. For Applying Laplace smoothing, 1 is added to the counts and 2 to the total number of records in each class. Also, using numpy (np.sum) keeping axis=0 to take the sum column-wise."
   ]
  },
  {
   "cell_type": "code",
   "execution_count": 330,
   "metadata": {},
   "outputs": [
    {
     "name": "stdout",
     "output_type": "stream",
     "text": [
      "(256,)\n",
      "(256,)\n",
      "(256,)\n",
      "(256,)\n"
     ]
    }
   ],
   "source": [
    "\n",
    "records_img2 = img2_X_train.shape[0]\n",
    "#print(records_img2)\n",
    "records_img4 = img4_X_train.shape[0]\n",
    "#print(records_img4)\n",
    "\n",
    "# For class 2 \n",
    "img2_one_prob = (np.sum(img2_X_train == 1, axis=0) + 1) / (records_img2 + 2)  \n",
    "img2_zero_prob = (np.sum(img2_X_train == 0, axis=0) + 1) / (records_img2 + 2)  \n",
    "\n",
    "# For class 4 \n",
    "img4_one_prob = (np.sum(img4_X_train == 1, axis=0) + 1) / (records_img4 + 2) \n",
    "img4_zero_prob = (np.sum(img4_X_train == 0, axis=0) + 1) / (records_img4 + 2)  \n",
    "\n",
    "#Printing their shapes\n",
    "print(img2_one_prob.shape)\n",
    "print(img2_zero_prob.shape)\n",
    "print(img4_one_prob.shape)\n",
    "print(img4_zero_prob.shape)"
   ]
  },
  {
   "cell_type": "markdown",
   "metadata": {},
   "source": [
    "Expected Output <br>\n",
    "- (256,)\n",
    "- (256,)\n",
    "- (256,)\n",
    "- (256,)\n"
   ]
  },
  {
   "cell_type": "markdown",
   "metadata": {},
   "source": [
    "#### Class Probabilities"
   ]
  },
  {
   "cell_type": "markdown",
   "metadata": {},
   "source": [
    "#### Explanation\n",
    "##### Here, the probabilities of observing classes 2 and 4 in the dataset are calculated by  dividing the number of records in each class by the total number of records to obtain the class probabilities. Finally, printitng out these probabilities for classes 2 and 4."
   ]
  },
  {
   "cell_type": "code",
   "execution_count": 331,
   "metadata": {},
   "outputs": [
    {
     "name": "stdout",
     "output_type": "stream",
     "text": [
      "Class 2 probability: 0.5\n",
      "Class 4 probability: 0.5\n"
     ]
    }
   ],
   "source": [
    "# Your code here\n",
    "\n",
    "\n",
    "\n",
    "# Calculate class probabilities\n",
    "total_records = records_img2 + records_img4\n",
    "class2_prob = records_img2 / total_records\n",
    "class4_prob = records_img4 / total_records\n",
    "\n",
    "# Printing class probabilities\n",
    "print(\"Class 2 probability:\", class2_prob)\n",
    "print(\"Class 4 probability:\", class4_prob)\n",
    "\n",
    "\n"
   ]
  },
  {
   "cell_type": "markdown",
   "metadata": {},
   "source": [
    "#### Predictions"
   ]
  },
  {
   "cell_type": "markdown",
   "metadata": {},
   "source": [
    "### Explanation\n",
    "###### Now, defining a function predict_naive_bayes that predicts the classes for a given dataset X using the Naive Bayes algorithm. It calculates posterior probabilities for classes 2 and 4 based on the features in X and then selects the class with the highest probability for each instance. Finally, it evaluates the accuracy of the predictions by comparing them with the true labels y_train and prints the training accuracy. The np.where function is used here to efficiently choose between class 2 and class 4 predictions based on which posterior probability is higher. It acts as a vectorized if-else statement."
   ]
  },
  {
   "cell_type": "code",
   "execution_count": 332,
   "metadata": {},
   "outputs": [
    {
     "name": "stdout",
     "output_type": "stream",
     "text": [
      "Training Accuracy: 0.988\n"
     ]
    }
   ],
   "source": [
    "def predict_naive_bayes(X, img2_one_prob, img2_zero_prob, img4_one_prob, img4_zero_prob, class2_prob, class4_prob):\n",
    "    # Calculating posterior probabilities for class 2\n",
    "    posterior_class2 = np.prod(np.where(X == 1, img2_one_prob, img2_zero_prob), axis=1) * class2_prob\n",
    "    \n",
    "    # Calculating posterior probabilities for class 4\n",
    "    posterior_class4 = np.prod(np.where(X == 1, img4_one_prob, img4_zero_prob), axis=1) * class4_prob\n",
    "    \n",
    "    # Selecting the class with the highest posterior probability\n",
    "    predictions = np.where(posterior_class2 > posterior_class4, 2, 4)\n",
    "    \n",
    "    return predictions\n",
    "\n",
    "# Making predictions on the training data\n",
    "train_predictions = predict_naive_bayes(x_train, img2_one_prob, img2_zero_prob, img4_one_prob, img4_zero_prob, class2_prob, class4_prob)\n",
    "\n",
    "# Calculating accuracy\n",
    "accuracy = np.mean(train_predictions == y_train)\n",
    "print(\"Training Accuracy:\", accuracy)"
   ]
  },
  {
   "cell_type": "markdown",
   "metadata": {},
   "source": [
    "## Just for Checking the Predicted vs True Labels"
   ]
  },
  {
   "cell_type": "code",
   "execution_count": 333,
   "metadata": {},
   "outputs": [
    {
     "name": "stdout",
     "output_type": "stream",
     "text": [
      "Predictions    True Labels\n",
      "2              2.0\n",
      "2              2.0\n",
      "2              2.0\n",
      "2              2.0\n",
      "2              2.0\n",
      "2              2.0\n",
      "2              2.0\n",
      "2              2.0\n",
      "2              2.0\n",
      "2              2.0\n",
      "2              2.0\n",
      "2              2.0\n",
      "2              2.0\n",
      "2              2.0\n",
      "2              2.0\n",
      "2              2.0\n",
      "2              2.0\n",
      "2              2.0\n",
      "2              2.0\n",
      "2              2.0\n",
      "2              2.0\n",
      "2              2.0\n",
      "2              2.0\n",
      "2              2.0\n",
      "2              2.0\n",
      "2              2.0\n",
      "2              2.0\n",
      "2              2.0\n",
      "2              2.0\n",
      "2              2.0\n",
      "2              2.0\n",
      "2              2.0\n",
      "2              2.0\n",
      "2              2.0\n",
      "2              2.0\n",
      "2              2.0\n",
      "2              2.0\n",
      "2              2.0\n",
      "2              2.0\n",
      "2              2.0\n",
      "2              2.0\n",
      "2              2.0\n",
      "2              2.0\n",
      "2              2.0\n",
      "2              2.0\n",
      "2              2.0\n",
      "2              2.0\n",
      "2              2.0\n",
      "2              2.0\n",
      "2              2.0\n",
      "2              2.0\n",
      "2              2.0\n",
      "2              2.0\n",
      "2              2.0\n",
      "2              2.0\n",
      "2              2.0\n",
      "2              2.0\n",
      "2              2.0\n",
      "2              2.0\n",
      "2              2.0\n",
      "2              2.0\n",
      "2              2.0\n",
      "2              2.0\n",
      "2              2.0\n",
      "2              2.0\n",
      "2              2.0\n",
      "2              2.0\n",
      "2              2.0\n",
      "2              2.0\n",
      "2              2.0\n",
      "2              2.0\n",
      "2              2.0\n",
      "2              2.0\n",
      "2              2.0\n",
      "2              2.0\n",
      "2              2.0\n",
      "2              2.0\n",
      "2              2.0\n",
      "2              2.0\n",
      "2              2.0\n",
      "2              2.0\n",
      "2              2.0\n",
      "2              2.0\n",
      "2              2.0\n",
      "2              2.0\n",
      "2              2.0\n",
      "2              2.0\n",
      "2              2.0\n",
      "2              2.0\n",
      "2              2.0\n",
      "2              2.0\n",
      "2              2.0\n",
      "2              2.0\n",
      "2              2.0\n",
      "2              2.0\n",
      "2              2.0\n",
      "2              2.0\n",
      "2              2.0\n",
      "2              2.0\n",
      "2              2.0\n",
      "2              2.0\n",
      "2              2.0\n",
      "4              2.0\n",
      "2              2.0\n",
      "2              2.0\n",
      "2              2.0\n",
      "2              2.0\n",
      "2              2.0\n",
      "2              2.0\n",
      "2              2.0\n",
      "2              2.0\n",
      "2              2.0\n",
      "2              2.0\n",
      "2              2.0\n",
      "2              2.0\n",
      "2              2.0\n",
      "2              2.0\n",
      "2              2.0\n",
      "2              2.0\n",
      "2              2.0\n",
      "2              2.0\n",
      "2              2.0\n",
      "2              2.0\n",
      "2              2.0\n",
      "2              2.0\n",
      "2              2.0\n",
      "2              2.0\n",
      "2              2.0\n",
      "2              2.0\n",
      "2              2.0\n",
      "2              2.0\n",
      "2              2.0\n",
      "2              2.0\n",
      "2              2.0\n",
      "4              2.0\n",
      "2              2.0\n",
      "4              2.0\n",
      "2              2.0\n",
      "2              2.0\n",
      "2              2.0\n",
      "2              2.0\n",
      "2              2.0\n",
      "2              2.0\n",
      "2              2.0\n",
      "2              2.0\n",
      "2              2.0\n",
      "2              2.0\n",
      "2              2.0\n",
      "2              2.0\n",
      "4              2.0\n",
      "2              2.0\n",
      "2              2.0\n",
      "2              2.0\n",
      "2              2.0\n",
      "2              2.0\n",
      "2              2.0\n",
      "2              2.0\n",
      "2              2.0\n",
      "2              2.0\n",
      "2              2.0\n",
      "2              2.0\n",
      "2              2.0\n",
      "2              2.0\n",
      "2              2.0\n",
      "2              2.0\n",
      "2              2.0\n",
      "2              2.0\n",
      "2              2.0\n",
      "2              2.0\n",
      "2              2.0\n",
      "2              2.0\n",
      "2              2.0\n",
      "2              2.0\n",
      "2              2.0\n",
      "2              2.0\n",
      "2              2.0\n",
      "2              2.0\n",
      "2              2.0\n",
      "2              2.0\n",
      "2              2.0\n",
      "2              2.0\n",
      "2              2.0\n",
      "2              2.0\n",
      "2              2.0\n",
      "2              2.0\n",
      "2              2.0\n",
      "2              2.0\n",
      "2              2.0\n",
      "2              2.0\n",
      "2              2.0\n",
      "2              2.0\n",
      "2              2.0\n",
      "2              2.0\n",
      "2              2.0\n",
      "2              2.0\n",
      "2              2.0\n",
      "2              2.0\n",
      "2              2.0\n",
      "2              2.0\n",
      "2              2.0\n",
      "2              2.0\n",
      "2              2.0\n",
      "2              2.0\n",
      "2              2.0\n",
      "2              2.0\n",
      "2              2.0\n",
      "2              2.0\n",
      "2              2.0\n",
      "2              2.0\n",
      "2              2.0\n",
      "2              2.0\n",
      "2              2.0\n",
      "2              2.0\n",
      "2              2.0\n",
      "2              2.0\n",
      "2              2.0\n",
      "2              2.0\n",
      "2              2.0\n",
      "2              2.0\n",
      "2              2.0\n",
      "2              2.0\n",
      "2              2.0\n",
      "2              2.0\n",
      "2              2.0\n",
      "2              2.0\n",
      "2              2.0\n",
      "2              2.0\n",
      "2              2.0\n",
      "2              2.0\n",
      "2              2.0\n",
      "2              2.0\n",
      "2              2.0\n",
      "2              2.0\n",
      "2              2.0\n",
      "2              2.0\n",
      "2              2.0\n",
      "2              2.0\n",
      "2              2.0\n",
      "2              2.0\n",
      "2              2.0\n",
      "2              2.0\n",
      "2              2.0\n",
      "2              2.0\n",
      "2              2.0\n",
      "2              2.0\n",
      "2              2.0\n",
      "2              2.0\n",
      "2              2.0\n",
      "2              2.0\n",
      "2              2.0\n",
      "4              4.0\n",
      "4              4.0\n",
      "4              4.0\n",
      "4              4.0\n",
      "4              4.0\n",
      "4              4.0\n",
      "4              4.0\n",
      "4              4.0\n",
      "4              4.0\n",
      "4              4.0\n",
      "4              4.0\n",
      "4              4.0\n",
      "4              4.0\n",
      "4              4.0\n",
      "4              4.0\n",
      "4              4.0\n",
      "4              4.0\n",
      "4              4.0\n",
      "4              4.0\n",
      "4              4.0\n",
      "4              4.0\n",
      "4              4.0\n",
      "4              4.0\n",
      "4              4.0\n",
      "4              4.0\n",
      "4              4.0\n",
      "4              4.0\n",
      "4              4.0\n",
      "4              4.0\n",
      "4              4.0\n",
      "4              4.0\n",
      "4              4.0\n",
      "4              4.0\n",
      "2              4.0\n",
      "4              4.0\n",
      "4              4.0\n",
      "4              4.0\n",
      "4              4.0\n",
      "4              4.0\n",
      "4              4.0\n",
      "4              4.0\n",
      "4              4.0\n",
      "4              4.0\n",
      "4              4.0\n",
      "4              4.0\n",
      "4              4.0\n",
      "4              4.0\n",
      "4              4.0\n",
      "4              4.0\n",
      "4              4.0\n",
      "4              4.0\n",
      "4              4.0\n",
      "4              4.0\n",
      "4              4.0\n",
      "4              4.0\n",
      "4              4.0\n",
      "4              4.0\n",
      "4              4.0\n",
      "4              4.0\n",
      "4              4.0\n",
      "4              4.0\n",
      "4              4.0\n",
      "4              4.0\n",
      "4              4.0\n",
      "4              4.0\n",
      "4              4.0\n",
      "4              4.0\n",
      "4              4.0\n",
      "4              4.0\n",
      "4              4.0\n",
      "4              4.0\n",
      "4              4.0\n",
      "4              4.0\n",
      "4              4.0\n",
      "4              4.0\n",
      "4              4.0\n",
      "4              4.0\n",
      "4              4.0\n",
      "4              4.0\n",
      "4              4.0\n",
      "4              4.0\n",
      "4              4.0\n",
      "4              4.0\n",
      "4              4.0\n",
      "4              4.0\n",
      "4              4.0\n",
      "4              4.0\n",
      "4              4.0\n",
      "4              4.0\n",
      "4              4.0\n",
      "4              4.0\n",
      "4              4.0\n",
      "4              4.0\n",
      "4              4.0\n",
      "4              4.0\n",
      "4              4.0\n",
      "4              4.0\n",
      "4              4.0\n",
      "4              4.0\n",
      "4              4.0\n",
      "4              4.0\n",
      "4              4.0\n",
      "4              4.0\n",
      "4              4.0\n",
      "4              4.0\n",
      "4              4.0\n",
      "4              4.0\n",
      "4              4.0\n",
      "4              4.0\n",
      "4              4.0\n",
      "4              4.0\n",
      "4              4.0\n",
      "4              4.0\n",
      "4              4.0\n",
      "4              4.0\n",
      "4              4.0\n",
      "4              4.0\n",
      "4              4.0\n",
      "4              4.0\n",
      "4              4.0\n",
      "4              4.0\n",
      "4              4.0\n",
      "4              4.0\n",
      "4              4.0\n",
      "4              4.0\n",
      "4              4.0\n",
      "4              4.0\n",
      "4              4.0\n",
      "4              4.0\n",
      "4              4.0\n",
      "4              4.0\n",
      "4              4.0\n",
      "4              4.0\n",
      "2              4.0\n",
      "4              4.0\n",
      "4              4.0\n",
      "4              4.0\n",
      "4              4.0\n",
      "4              4.0\n",
      "4              4.0\n",
      "4              4.0\n",
      "4              4.0\n",
      "4              4.0\n",
      "4              4.0\n",
      "4              4.0\n",
      "4              4.0\n",
      "4              4.0\n",
      "4              4.0\n",
      "4              4.0\n",
      "4              4.0\n",
      "4              4.0\n",
      "4              4.0\n",
      "4              4.0\n",
      "4              4.0\n",
      "4              4.0\n",
      "4              4.0\n",
      "4              4.0\n",
      "4              4.0\n",
      "4              4.0\n",
      "4              4.0\n",
      "4              4.0\n",
      "4              4.0\n",
      "4              4.0\n",
      "4              4.0\n",
      "4              4.0\n",
      "4              4.0\n",
      "4              4.0\n",
      "4              4.0\n",
      "4              4.0\n",
      "4              4.0\n",
      "4              4.0\n",
      "4              4.0\n",
      "4              4.0\n",
      "4              4.0\n",
      "4              4.0\n",
      "4              4.0\n",
      "4              4.0\n",
      "4              4.0\n",
      "4              4.0\n",
      "4              4.0\n",
      "4              4.0\n",
      "4              4.0\n",
      "4              4.0\n",
      "4              4.0\n",
      "4              4.0\n",
      "4              4.0\n",
      "4              4.0\n",
      "4              4.0\n",
      "4              4.0\n",
      "4              4.0\n",
      "4              4.0\n",
      "4              4.0\n",
      "4              4.0\n",
      "4              4.0\n",
      "4              4.0\n",
      "4              4.0\n",
      "4              4.0\n",
      "4              4.0\n",
      "4              4.0\n",
      "4              4.0\n",
      "4              4.0\n",
      "4              4.0\n",
      "4              4.0\n",
      "4              4.0\n",
      "4              4.0\n",
      "4              4.0\n",
      "4              4.0\n",
      "4              4.0\n",
      "4              4.0\n",
      "4              4.0\n",
      "4              4.0\n",
      "4              4.0\n",
      "4              4.0\n",
      "4              4.0\n",
      "4              4.0\n",
      "4              4.0\n",
      "4              4.0\n",
      "4              4.0\n",
      "4              4.0\n",
      "4              4.0\n",
      "4              4.0\n",
      "4              4.0\n",
      "4              4.0\n",
      "4              4.0\n",
      "4              4.0\n",
      "4              4.0\n",
      "4              4.0\n",
      "4              4.0\n",
      "4              4.0\n",
      "4              4.0\n",
      "4              4.0\n",
      "4              4.0\n",
      "4              4.0\n",
      "4              4.0\n",
      "4              4.0\n",
      "4              4.0\n",
      "4              4.0\n",
      "4              4.0\n",
      "4              4.0\n",
      "4              4.0\n",
      "4              4.0\n",
      "4              4.0\n",
      "4              4.0\n",
      "4              4.0\n",
      "4              4.0\n",
      "4              4.0\n",
      "4              4.0\n",
      "4              4.0\n",
      "4              4.0\n",
      "4              4.0\n"
     ]
    }
   ],
   "source": [
    "print(\"Predictions    True Labels\")\n",
    "for i in range(len(train_predictions)):\n",
    "    print(train_predictions[i], \"            \", y_train[i])"
   ]
  },
  {
   "cell_type": "markdown",
   "metadata": {},
   "source": [
    "##### Now evaluating the performance by computing True Positives (TP), False Positives (FP), False Negatives (FN), and True Negatives (TN) using the model predictions (train_predictions) and the true labels (y_train). Then calculating the overall accuracy."
   ]
  },
  {
   "cell_type": "code",
   "execution_count": 334,
   "metadata": {},
   "outputs": [
    {
     "name": "stdout",
     "output_type": "stream",
     "text": [
      "TP = 246 FP = 2\n",
      "FN = 4 TN = 248\n",
      "\n",
      "Overall Accuracy =  0.988\n",
      "\n",
      "Confusion Matrix:\n",
      " [[246   2]\n",
      " [  4 248]]\n"
     ]
    }
   ],
   "source": [
    "# Calculating True Positives (TP), False Positives (FP), False Negatives (FN), and True Negatives (TN)\n",
    "tp = np.sum((train_predictions == 2) & (y_train == 2))\n",
    "fp = np.sum((train_predictions == 2) & (y_train == 4))\n",
    "fn = np.sum((train_predictions == 4) & (y_train == 2))\n",
    "tn = np.sum((train_predictions == 4) & (y_train == 4))\n",
    "\n",
    "print(f'TP = {tp} FP = {fp}')\n",
    "print(f'FN = {fn} TN = {tn}')\n",
    "\n",
    "# Calculating overall accuracy\n",
    "overall_accuracy = (tp + tn) / (tp + tn + fp + fn)\n",
    "print(\"\\nOverall Accuracy = \", overall_accuracy)\n",
    "\n",
    "# Confusion matrix\n",
    "confusion_matrix = np.array([[tp, fp], [fn, tn]])\n",
    "print(\"\\nConfusion Matrix:\\n\",confusion_matrix)"
   ]
  },
  {
   "cell_type": "markdown",
   "metadata": {},
   "source": [
    "#### Overall Accuracy"
   ]
  },
  {
   "cell_type": "markdown",
   "metadata": {},
   "source": [
    "Expected Output \n",
    "<br><br>\n",
    "**Confusion Matrix**\n",
    "<br>\n",
    "TP =  248 \tFP =  4\n",
    "<br>\n",
    "FN =  2 \tTN =  246\n",
    "<br>\n",
    "- Overall Accuracy =  0.988"
   ]
  },
  {
   "cell_type": "markdown",
   "metadata": {},
   "source": [
    "#### Classwise Accuracy "
   ]
  },
  {
   "cell_type": "code",
   "execution_count": 335,
   "metadata": {},
   "outputs": [
    {
     "name": "stdout",
     "output_type": "stream",
     "text": [
      "Total accuracy of Training data given class 2:  0.984\n",
      "Total accuracy of Training data given class 4:  0.992\n"
     ]
    }
   ],
   "source": [
    "# Your code here\n",
    "\n",
    "class2_train_total_accuracy = tp / (tp + fn)\n",
    "class4_train_total_accuracy = tn / (tn + fp)\n",
    "\n",
    "print(\"Total accuracy of Training data given class 2: \", class2_train_total_accuracy)\n",
    "print(\"Total accuracy of Training data given class 4: \" , class4_train_total_accuracy)\n",
    "\n"
   ]
  },
  {
   "cell_type": "markdown",
   "metadata": {},
   "source": [
    "Expected Output <br>\n",
    "\n",
    "- Total accuracy of Training data given class 2:  0.984\n",
    "<br>\n",
    "- Total accuracy of Training data given class 4:  0.992"
   ]
  },
  {
   "cell_type": "markdown",
   "metadata": {},
   "source": [
    "### FOR TESTING DATA"
   ]
  },
  {
   "cell_type": "markdown",
   "metadata": {},
   "source": [
    "##### Probabailty of 1s and 0s"
   ]
  },
  {
   "cell_type": "markdown",
   "metadata": {},
   "source": [
    "#### Explanation\n",
    "##### This code calculates probabilities for features (either 1 or 0) in classes 2 and 4, accounting for Laplace smoothing to avoid zero probabilities. For Applying Laplace smoothing, 1 is added to the counts and 2 to the total number of records in each class. Also, using numpy (np.sum) keeping axis=0 to take the sum column-wise."
   ]
  },
  {
   "cell_type": "code",
   "execution_count": 336,
   "metadata": {},
   "outputs": [
    {
     "name": "stdout",
     "output_type": "stream",
     "text": [
      "(256,)\n",
      "(256,)\n",
      "(256,)\n",
      "(256,)\n"
     ]
    }
   ],
   "source": [
    "records_img2_test = img2_X_test.shape[0]\n",
    "records_img4_test = img4_X_test.shape[0]\n",
    "\n",
    "# For class 2 : Laplace smoothing\n",
    "img2_one_prob_test = (np.sum(img2_X_test == 1, axis=0) + 1) / (records_img2_test + 2)  \n",
    "img2_zero_prob_test = (np.sum(img2_X_test == 0, axis=0) + 1) / (records_img2_test + 2)  \n",
    "\n",
    "# For class 4 : Laplace smoothing\n",
    "img4_one_prob_test = (np.sum(img4_X_test == 1, axis=0) + 1) / (records_img4_test + 2) \n",
    "img4_zero_prob_test = (np.sum(img4_X_test == 0, axis=0) + 1) / (records_img4_test + 2)\n",
    "\n",
    "#PRinting\n",
    "print(img2_one_prob_test.shape)\n",
    "print(img2_zero_prob_test.shape)\n",
    "print(img4_one_prob_test.shape)\n",
    "print(img4_zero_prob_test.shape)"
   ]
  },
  {
   "cell_type": "markdown",
   "metadata": {},
   "source": [
    "#### Class Probabilities"
   ]
  },
  {
   "cell_type": "markdown",
   "metadata": {},
   "source": [
    "#### Explanation\n",
    "##### Here, the probabilities of observing classes 2 and 4 in the dataset are calculated by  dividing the number of records in each class by the total number of records to obtain the class probabilities. Finally, printitng out these probabilities for classes 2 and 4."
   ]
  },
  {
   "cell_type": "code",
   "execution_count": 337,
   "metadata": {},
   "outputs": [
    {
     "name": "stdout",
     "output_type": "stream",
     "text": [
      "Class 2 probability: 0.5\n",
      "Class 4 probability: 0.5\n"
     ]
    }
   ],
   "source": [
    "# your code here\n",
    "# Calculating class probabilities\n",
    "total_records_test = records_img2_test + records_img4_test\n",
    "class2_prob_test = records_img2_test / total_records_test\n",
    "class4_prob_test = records_img4_test / total_records_test\n",
    "\n",
    "# Printing class probabilities\n",
    "print(\"Class 2 probability:\", class2_prob_test)\n",
    "print(\"Class 4 probability:\", class4_prob_test)\n",
    "\n",
    "\n",
    "\n",
    "\n",
    "\n",
    "\n"
   ]
  },
  {
   "cell_type": "markdown",
   "metadata": {},
   "source": [
    "#### Predictions"
   ]
  },
  {
   "cell_type": "markdown",
   "metadata": {},
   "source": [
    "### Explanation\n",
    "###### Now, again defining a function predict_naive_bayes that predicts the classes for a given dataset X using the Naive Bayes algorithm. It calculates posterior probabilities for classes 2 and 4 based on the features in X and then selects the class with the highest probability for each instance. Finally, it evaluates the accuracy of the predictions by comparing them with the true labels y_test and prints the testing accuracy. The np.where function is used here to efficiently choose between class 2 and class 4 predictions based on which posterior probability is higher. It acts as a vectorized if-else statement."
   ]
  },
  {
   "cell_type": "code",
   "execution_count": 338,
   "metadata": {},
   "outputs": [
    {
     "name": "stdout",
     "output_type": "stream",
     "text": [
      "Testing Accuracy: 1.0\n"
     ]
    }
   ],
   "source": [
    "# your code here\n",
    "\n",
    "def predict_naive_bayes(X, img2_one_prob, img2_zero_prob, img4_one_prob, img4_zero_prob, class2_prob, class4_prob):\n",
    "    # Calculating posterior probabilities for class 2\n",
    "    posterior_class2 = np.prod(np.where(X == 1, img2_one_prob, img2_zero_prob), axis=1) * class2_prob\n",
    "    \n",
    "    # Calculating posterior probabilities for class 4\n",
    "    posterior_class4 = np.prod(np.where(X == 1, img4_one_prob, img4_zero_prob), axis=1) * class4_prob\n",
    "    \n",
    "    # Choosing the class with the highest posterior probability\n",
    "    predictions = np.where(posterior_class2 > posterior_class4, 2, 4)\n",
    "    \n",
    "    return predictions\n",
    "\n",
    "# Making predictions on the testing data\n",
    "test_predictions = predict_naive_bayes(x_test, img2_one_prob_test, img2_zero_prob_test, img4_one_prob_test, img4_zero_prob_test, class2_prob_test, class4_prob_test)\n",
    "\n",
    "# Calculating accuracy\n",
    "accuracy = np.mean(test_predictions == y_test)\n",
    "print(\"Testing Accuracy:\", accuracy)\n",
    "\n"
   ]
  },
  {
   "cell_type": "markdown",
   "metadata": {},
   "source": [
    "## Just for Checking the predicted vs True Labels"
   ]
  },
  {
   "cell_type": "code",
   "execution_count": 339,
   "metadata": {},
   "outputs": [
    {
     "name": "stdout",
     "output_type": "stream",
     "text": [
      "Predictions    True Labels\n",
      "2              2.0\n",
      "2              2.0\n",
      "2              2.0\n",
      "2              2.0\n",
      "2              2.0\n",
      "2              2.0\n",
      "2              2.0\n",
      "2              2.0\n",
      "2              2.0\n",
      "2              2.0\n",
      "2              2.0\n",
      "2              2.0\n",
      "2              2.0\n",
      "2              2.0\n",
      "2              2.0\n",
      "2              2.0\n",
      "2              2.0\n",
      "2              2.0\n",
      "2              2.0\n",
      "2              2.0\n",
      "2              2.0\n",
      "2              2.0\n",
      "2              2.0\n",
      "2              2.0\n",
      "2              2.0\n",
      "2              2.0\n",
      "2              2.0\n",
      "2              2.0\n",
      "2              2.0\n",
      "2              2.0\n",
      "2              2.0\n",
      "2              2.0\n",
      "2              2.0\n",
      "2              2.0\n",
      "2              2.0\n",
      "2              2.0\n",
      "2              2.0\n",
      "2              2.0\n",
      "2              2.0\n",
      "2              2.0\n",
      "2              2.0\n",
      "2              2.0\n",
      "2              2.0\n",
      "2              2.0\n",
      "2              2.0\n",
      "2              2.0\n",
      "2              2.0\n",
      "2              2.0\n",
      "2              2.0\n",
      "2              2.0\n",
      "4              4.0\n",
      "4              4.0\n",
      "4              4.0\n",
      "4              4.0\n",
      "4              4.0\n",
      "4              4.0\n",
      "4              4.0\n",
      "4              4.0\n",
      "4              4.0\n",
      "4              4.0\n",
      "4              4.0\n",
      "4              4.0\n",
      "4              4.0\n",
      "4              4.0\n",
      "4              4.0\n",
      "4              4.0\n",
      "4              4.0\n",
      "4              4.0\n",
      "4              4.0\n",
      "4              4.0\n",
      "4              4.0\n",
      "4              4.0\n",
      "4              4.0\n",
      "4              4.0\n",
      "4              4.0\n",
      "4              4.0\n",
      "4              4.0\n",
      "4              4.0\n",
      "4              4.0\n",
      "4              4.0\n",
      "4              4.0\n",
      "4              4.0\n",
      "4              4.0\n",
      "4              4.0\n",
      "4              4.0\n",
      "4              4.0\n",
      "4              4.0\n",
      "4              4.0\n",
      "4              4.0\n",
      "4              4.0\n",
      "4              4.0\n",
      "4              4.0\n",
      "4              4.0\n",
      "4              4.0\n",
      "4              4.0\n",
      "4              4.0\n",
      "4              4.0\n",
      "4              4.0\n",
      "4              4.0\n",
      "4              4.0\n"
     ]
    }
   ],
   "source": [
    "\n",
    "print(\"Predictions    True Labels\")\n",
    "for i in range(len(test_predictions)):\n",
    "    print(test_predictions[i], \"            \", y_test[i])"
   ]
  },
  {
   "cell_type": "markdown",
   "metadata": {},
   "source": [
    "Expected Output <br>\n",
    "\n",
    "- Total accuracy of Testing data given class 2:  1.0\n",
    "<br>\n",
    "- Total accuracy of Testing data given class 4:  1.0"
   ]
  },
  {
   "cell_type": "markdown",
   "metadata": {},
   "source": [
    "#### Overall Accuracy"
   ]
  },
  {
   "cell_type": "code",
   "execution_count": 340,
   "metadata": {},
   "outputs": [
    {
     "name": "stdout",
     "output_type": "stream",
     "text": [
      "TP = 50 FP = 0\n",
      "FN = 0 TN = 50\n",
      "\n",
      "Overall Accuracy =  1.0\n",
      "\n",
      "Confusion Matrix:\n",
      " [[50  0]\n",
      " [ 0 50]]\n"
     ]
    }
   ],
   "source": [
    "# your code here \n",
    "\n",
    "# Calculate True Positives (TP), False Positives (FP), False Negatives (FN), and True Negatives (TN)\n",
    "tp = np.sum((test_predictions == 2) & (y_test == 2))\n",
    "fp = np.sum((test_predictions == 2) & (y_test == 4))\n",
    "fn = np.sum((test_predictions == 4) & (y_test == 2))\n",
    "tn = np.sum((test_predictions == 4) & (y_test == 4))\n",
    "\n",
    "print(f'TP = {tp} FP = {fp}')\n",
    "print(f'FN = {fn} TN = {tn}')\n",
    "\n",
    "# Calculate overall accuracy\n",
    "overall_accuracy = (tp + tn) / (tp + tn + fp + fn)\n",
    "print(\"\\nOverall Accuracy = \", overall_accuracy)\n",
    "\n",
    "# Confusion matrix\n",
    "confusion_matrix = np.array([[tp, fp], [fn, tn]])\n",
    "print(\"\\nConfusion Matrix:\\n\",confusion_matrix)\n",
    "\n"
   ]
  },
  {
   "cell_type": "markdown",
   "metadata": {},
   "source": [
    "Expected Output \n",
    "<br><br>\n",
    "**Confusion Matrix**\n",
    "<br>\n",
    "TP =  50 \tFP =  0\n",
    "<br>\n",
    "FN =  0 \tTN =  50\n",
    "<br>\n",
    "- Overall Accuracy =  1.0"
   ]
  },
  {
   "cell_type": "markdown",
   "metadata": {},
   "source": [
    "#### Class Wise Accuracy"
   ]
  },
  {
   "cell_type": "code",
   "execution_count": 341,
   "metadata": {},
   "outputs": [
    {
     "name": "stdout",
     "output_type": "stream",
     "text": [
      "Total accuracy of Testing data given class 2:  1.0\n",
      "Total accuracy of Testing data given class 4:  1.0\n"
     ]
    }
   ],
   "source": [
    "class2_test_total_accuracy = tp / (tp + fn)\n",
    "class4_test_total_accuracy = tn / (tn + fp)\n",
    "\n",
    "print(\"Total accuracy of Testing data given class 2: \", class2_test_total_accuracy)\n",
    "print(\"Total accuracy of Testing data given class 4: \" , class4_test_total_accuracy)"
   ]
  },
  {
   "cell_type": "markdown",
   "metadata": {},
   "source": [
    "### Plot your Test pixels/features in form of image to correctly identify whether our model is giving correct results"
   ]
  },
  {
   "cell_type": "markdown",
   "metadata": {},
   "source": [
    "2 plots for each class"
   ]
  },
  {
   "cell_type": "markdown",
   "metadata": {},
   "source": [
    "### Since first 50 images for the test_X data are of 2 and the next 50 images for the test_X data are of 4. So, 2 plots for each class can be made by choosing 2 random indexes from first 50 images (which belong to class 2) and 2 random indexes from next 50 to 100 images (which belong to class 4). The indexes that are selected will also show the corresponding predicted label to check whether the model is giving correct results."
   ]
  },
  {
   "cell_type": "code",
   "execution_count": 351,
   "metadata": {},
   "outputs": [
    {
     "name": "stdout",
     "output_type": "stream",
     "text": [
      "Predicted :  2\n"
     ]
    },
    {
     "data": {
      "text/plain": [
       "<matplotlib.image.AxesImage at 0x2ddba8faad0>"
      ]
     },
     "execution_count": 351,
     "metadata": {},
     "output_type": "execute_result"
    },
    {
     "data": {
      "image/png": "[encoded data removed]",
      "text/plain": [
       "<Figure size 640x480 with 1 Axes>"
      ]
     },
     "metadata": {},
     "output_type": "display_data"
    }
   ],
   "source": [
    "import random\n",
    "\n",
    "index = random.randint(0,49)\n",
    "print(\"Predicted : \",test_predictions[index])\n",
    "img = np.reshape(x_test[index],(16,16),order= 'F')\n",
    "plt.imshow(img)"
   ]
  },
  {
   "cell_type": "code",
   "execution_count": 352,
   "metadata": {},
   "outputs": [
    {
     "name": "stdout",
     "output_type": "stream",
     "text": [
      "Predicted :  2\n"
     ]
    },
    {
     "data": {
      "text/plain": [
       "<matplotlib.image.AxesImage at 0x2ddb9747c90>"
      ]
     },
     "execution_count": 352,
     "metadata": {},
     "output_type": "execute_result"
    },
    {
     "data": {
      "image/png": "[encoded data removed]",
      "text/plain": [
       "<Figure size 640x480 with 1 Axes>"
      ]
     },
     "metadata": {},
     "output_type": "display_data"
    }
   ],
   "source": [
    "import random\n",
    "\n",
    "index = random.randint(0,49)\n",
    "print(\"Predicted : \",test_predictions[index])\n",
    "img = np.reshape(x_test[index],(16,16),order= 'F')\n",
    "plt.imshow(img)"
   ]
  },
  {
   "cell_type": "code",
   "execution_count": 353,
   "metadata": {},
   "outputs": [
    {
     "name": "stdout",
     "output_type": "stream",
     "text": [
      "Predicted :  4\n"
     ]
    },
    {
     "data": {
      "text/plain": [
       "<matplotlib.image.AxesImage at 0x2ddb9798d90>"
      ]
     },
     "execution_count": 353,
     "metadata": {},
     "output_type": "execute_result"
    },
    {
     "data": {
      "image/png": "[encoded data removed]",
      "text/plain": [
       "<Figure size 640x480 with 1 Axes>"
      ]
     },
     "metadata": {},
     "output_type": "display_data"
    }
   ],
   "source": [
    "import random\n",
    "\n",
    "index = random.randint(50,99)\n",
    "print(\"Predicted : \",test_predictions[index])\n",
    "img = np.reshape(x_test[index],(16,16),order= 'F')\n",
    "plt.imshow(img)"
   ]
  },
  {
   "cell_type": "code",
   "execution_count": 354,
   "metadata": {},
   "outputs": [
    {
     "name": "stdout",
     "output_type": "stream",
     "text": [
      "Predicted :  4\n"
     ]
    },
    {
     "data": {
      "text/plain": [
       "<matplotlib.image.AxesImage at 0x2ddb980acd0>"
      ]
     },
     "execution_count": 354,
     "metadata": {},
     "output_type": "execute_result"
    },
    {
     "data": {
      "image/png": "[encoded data removed]",
      "text/plain": [
       "<Figure size 640x480 with 1 Axes>"
      ]
     },
     "metadata": {},
     "output_type": "display_data"
    }
   ],
   "source": [
    "import random\n",
    "\n",
    "index = random.randint(50,99)\n",
    "print(\"Predicted : \",test_predictions[index])\n",
    "img = np.reshape(x_test[index],(16,16),order= 'F')\n",
    "plt.imshow(img)"
   ]
  },
  {
   "cell_type": "markdown",
   "metadata": {},
   "source": [
    "Your Oppinion on the results about why naive bayes worked well for  this OCR\n",
    "and give one example where naive bayes can not be used\n"
   ]
  },
  {
   "cell_type": "markdown",
   "metadata": {},
   "source": [
    "Solution : Naive Bayes worked well for this OCR task due to its simplicity and efficiency, especially when dealing with high-dimensional feature spaces.Also, because it assumes that each pixel or feature in an image is independent of others. This aligns with the representation of OCR images, where individual pixels can be treated as separate and contribute independently to the classification decision. This assumption simplifies the modeling process and allows Naive Bayes to effectively capture the characteristics of characters based on their pixel values.\n",
    "\n",
    "However, its performance may degrade in scenarios where feature dependencies play a significant role in classification decisions. One example is in natural language processing tasks where the order of words or the relationship between words is crucial for understanding meaning. For instance, considering the task of sentiment analysis where the goal is to classify movie reviews as positive or negative. In this case, the occurrence of certain words may depend on the presence or absence of other words in the review. Naive Bayes assumes that features (words) are independent of each other, which may lead to oversimplified models and suboptimal performance when dealing with language data that exhibits strong dependencies between features."
   ]
  },
  {
   "cell_type": "markdown",
   "metadata": {},
   "source": []
  },
  {
   "cell_type": "code",
   "execution_count": null,
   "metadata": {},
   "outputs": [],
   "source": []
  },
  {
   "cell_type": "code",
   "execution_count": null,
   "metadata": {},
   "outputs": [],
   "source": []
  },
  {
   "cell_type": "code",
   "execution_count": null,
   "metadata": {},
   "outputs": [],
   "source": []
  },
  {
   "cell_type": "code",
   "execution_count": null,
   "metadata": {},
   "outputs": [],
   "source": []
  },
  {
   "cell_type": "code",
   "execution_count": null,
   "metadata": {},
   "outputs": [],
   "source": []
  }
 ],
 "metadata": {
  "kernelspec": {
   "display_name": "Python 3 (ipykernel)",
   "language": "python",
   "name": "python3"
  },
  "language_info": {
   "codemirror_mode": {
    "name": "ipython",
    "version": 3
   },
   "file_extension": ".py",
   "mimetype": "text/x-python",
   "name": "python",
   "nbconvert_exporter": "python",
   "pygments_lexer": "ipython3",
   "version": "3.11.3"
  }
 },
 "nbformat": 4,
 "nbformat_minor": 2
}
